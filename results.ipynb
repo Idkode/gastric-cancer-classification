{
 "cells": [
  {
   "cell_type": "markdown",
   "id": "ef64fd0a",
   "metadata": {},
   "source": [
    "## FC_1024-256_RELU\n",
    "\n",
    "Arquitetura:\n",
    "- Linear(model.fc.in_features, 1024)\n",
    "- BatchNorm1d(1024)\n",
    "- ReLU\n",
    "- Dropout(0.4)\n",
    "- Linear(1024, 256)\n",
    "- BatchNorm1d(256)\n",
    "- ReLU\n",
    "- Dropout(0.4)\n",
    "- Linear(256, 8)\n",
    "\n",
    "Tempo de treinamento: 05:32:07"
   ]
  },
  {
   "cell_type": "markdown",
   "id": "13834aec",
   "metadata": {},
   "source": [
    "## FC_1024-64_SIGMOID\n",
    "- Linear(model.fc.in_features, 1024)\n",
    "- Sigmoid\n",
    "- Linear(1024, 512)\n",
    "- Sigmoid\n",
    "- Linear(512, 64)\n",
    "- Sigmoid\n",
    "- Linear(64,8)\n",
    "\n",
    "Tempo de treinamento: 05:24:21"
   ]
  },
  {
   "cell_type": "markdown",
   "id": "83fe62b2",
   "metadata": {},
   "source": [
    "## FC_2048-64_RELU\n",
    "\n",
    "- Linear(model.fc.in_features, 2048)\n",
    "- ReLU\n",
    "- Linear(2048, 512)\n",
    "- ReLU\n",
    "- Linear(512, 64)\n",
    "- ReLU\n",
    "- Linear(64, 8)\n",
    "\n",
    "Tempo de treinamento: 05:43:00"
   ]
  },
  {
   "cell_type": "markdown",
   "id": "ea170dcb",
   "metadata": {},
   "source": [
    "## FC_1024-256_SILU\n",
    "- Linear(model.fc.in_features, 1024)\n",
    "- nn.SiLU(),\n",
    "- nn.Dropout(0.5),\n",
    "- nn.Linear(1024, 256),\n",
    "- nn.SiLU(),\n",
    "- nn.Dropout(0.5),\n",
    "- nn.Linear(256, 8)\n",
    "\n",
    "Tempo de treinamento: 05:57:56"
   ]
  },
  {
   "cell_type": "markdown",
   "id": "60019842",
   "metadata": {},
   "source": [
    "## FC_2048-512_GELU\n",
    "- Linear(model.fc.in_features, 2048)\n",
    "- GELU\n",
    "- Linear(2048, 512)\n",
    "- GELU\n",
    "- Linear(512, 8)\n",
    "\n",
    "Tempo de treinamento: 11:32:19"
   ]
  },
  {
   "cell_type": "markdown",
   "id": "cb2297de",
   "metadata": {},
   "source": [
    "## FC_512-128_TANH\n",
    "\n",
    "- FC_512-128_TANH:\n",
    "- Linear(model.fc.in_features, 512)\n",
    "- BatchNorm1d(512)\n",
    "- Tanh\n",
    "- Dropout(0.3)\n",
    "- Linear(512, 128)\n",
    "- BatchNorm1d(128)\n",
    "- Tanh\n",
    "- Dropout(0.3)\n",
    "- Linear(128, 8)\n",
    "\n",
    "Tempo de treinamento: 06:39:45"
   ]
  },
  {
   "cell_type": "code",
   "execution_count": null,
   "id": "ce3812fe",
   "metadata": {},
   "outputs": [],
   "source": []
  }
 ],
 "metadata": {
  "kernelspec": {
   "display_name": "rna",
   "language": "python",
   "name": "python3"
  },
  "language_info": {
   "name": "python",
   "version": "3.12.9"
  }
 },
 "nbformat": 4,
 "nbformat_minor": 5
}
