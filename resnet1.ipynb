{
 "cells": [
  {
   "cell_type": "code",
   "execution_count": null,
   "metadata": {},
   "outputs": [],
   "source": [
    "import pandas as pd\n",
    "import numpy as np\n",
    "from src.dataset import StomachCancerDataset\n",
    "from dataloader import build_loader\n",
    "import torch\n",
    "from torchvision import transforms\n",
    "from torch import nn\n",
    "import os\n",
    "from torchvision.models.resnet import resnet152, ResNet152_Weights\n",
    "\n",
    "\n",
    "classes = ['ADI',\n",
    "           'DEB',\n",
    "           'LYM',\n",
    "           'MUC',\n",
    "           'MUS',\n",
    "           'NOR',\n",
    "           'STR',\n",
    "           'TUM']\n",
    "\n",
    "label_mapper = {label: i for i, label in enumerate(classes)}\n",
    "\n",
    "train_data = pd.read_csv('test.csv')\n",
    "X_test = train_data['path'].values\n",
    "y_test = train_data['label'].map(label_mapper).values\n",
    "\n",
    "batch_size = 32\n",
    "\n",
    "process_val = transforms.Compose([\n",
    "    transforms.Resize((224,224), interpolation=transforms.InterpolationMode.NEAREST_EXACT),\n",
    "    transforms.ToTensor(),\n",
    "    transforms.Normalize(mean=[0.485, 0.456, 0.406], std=[0.229, 0.224, 0.225]),\n",
    "])\n",
    "\n",
    "test_dataset = StomachCancerDataset(X_test, y_test, process_val)\n",
    "\n",
    "test_loader = build_loader(test_dataset, batch_size, 3)\n",
    "\n",
    "model = resnet152(weights=ResNet152_Weights.IMAGENET1K_V1)\n",
    "\n",
    "\n",
    "\n",
    "model.fc = nn.Sequential(nn.Linear(model.fc.in_features, 2048),\n",
    "                         nn.AdaptiveAvgPool1d(1024),\n",
    "                         nn.BatchNorm1d(1024),\n",
    "                         nn.RReLU(),\n",
    "                         nn.Dropout(0.5),\n",
    "                         nn.Linear(1024, 512),\n",
    "                         nn.BatchNorm1d(512),\n",
    "                         nn.RReLU(),\n",
    "                         nn.Dropout(0.5),\n",
    "                         nn.Linear(512, 196))\n",
    "\n",
    "model_name = model.__class__.__name__\n",
    "\n",
    "files = os.listdir(name := 'results/' + model_name)\n",
    "number = len(files) - 1\n",
    "number = 0\n",
    "path = name + '/' + str(number) + '/'\n",
    "\n",
    "csv_file = (path + 'train_stats.csv')\n",
    "\n",
    "loss = nn.CrossEntropyLoss()"
   ]
  },
  {
   "cell_type": "code",
   "execution_count": 2,
   "metadata": {},
   "outputs": [],
   "source": [
    "iterator = iter(test_loader)\n",
    "inputs, labels = next(iterator)"
   ]
  },
  {
   "cell_type": "code",
   "execution_count": 3,
   "metadata": {},
   "outputs": [],
   "source": [
    "classes1 = pd.read_csv('names.csv')\n",
    "classes = classes1['car_names'].values\n",
    "# classes"
   ]
  },
  {
   "cell_type": "code",
   "execution_count": 4,
   "metadata": {},
   "outputs": [],
   "source": [
    "import matplotlib.pyplot as plt\n",
    "import numpy as np\n",
    "def imshow(inp, title=None):\n",
    "    \"\"\"Display image for Tensor.\"\"\"\n",
    "    inp = inp.numpy().transpose((1, 2, 0))\n",
    "    mean = np.array([0.485, 0.456, 0.406])\n",
    "    std = np.array([0.229, 0.224, 0.225])\n",
    "    inp = std * inp + mean\n",
    "    inp = np.clip(inp, 0, 1)\n",
    "    plt.imshow(inp)\n",
    "    if title is not None:\n",
    "        plt.title(title)\n",
    "    plt.pause(0.001)"
   ]
  },
  {
   "cell_type": "markdown",
   "metadata": {},
   "source": [
    "model"
   ]
  },
  {
   "cell_type": "code",
   "execution_count": 5,
   "metadata": {},
   "outputs": [
    {
     "data": {
      "text/html": [
       "<div>\n",
       "<style scoped>\n",
       "    .dataframe tbody tr th:only-of-type {\n",
       "        vertical-align: middle;\n",
       "    }\n",
       "\n",
       "    .dataframe tbody tr th {\n",
       "        vertical-align: top;\n",
       "    }\n",
       "\n",
       "    .dataframe thead th {\n",
       "        text-align: right;\n",
       "    }\n",
       "</style>\n",
       "<table border=\"1\" class=\"dataframe\">\n",
       "  <thead>\n",
       "    <tr style=\"text-align: right;\">\n",
       "      <th></th>\n",
       "      <th>Epoch</th>\n",
       "      <th>Train Loss</th>\n",
       "      <th>Val Loss</th>\n",
       "    </tr>\n",
       "  </thead>\n",
       "  <tbody>\n",
       "    <tr>\n",
       "      <th>0</th>\n",
       "      <td>1</td>\n",
       "      <td>83.592842</td>\n",
       "      <td>76.332176</td>\n",
       "    </tr>\n",
       "    <tr>\n",
       "      <th>1</th>\n",
       "      <td>2</td>\n",
       "      <td>78.241176</td>\n",
       "      <td>71.999707</td>\n",
       "    </tr>\n",
       "    <tr>\n",
       "      <th>2</th>\n",
       "      <td>3</td>\n",
       "      <td>74.830381</td>\n",
       "      <td>68.580667</td>\n",
       "    </tr>\n",
       "    <tr>\n",
       "      <th>3</th>\n",
       "      <td>4</td>\n",
       "      <td>72.201714</td>\n",
       "      <td>65.846916</td>\n",
       "    </tr>\n",
       "    <tr>\n",
       "      <th>4</th>\n",
       "      <td>5</td>\n",
       "      <td>69.580331</td>\n",
       "      <td>63.373686</td>\n",
       "    </tr>\n",
       "    <tr>\n",
       "      <th>...</th>\n",
       "      <td>...</td>\n",
       "      <td>...</td>\n",
       "      <td>...</td>\n",
       "    </tr>\n",
       "    <tr>\n",
       "      <th>93</th>\n",
       "      <td>94</td>\n",
       "      <td>45.601862</td>\n",
       "      <td>43.920493</td>\n",
       "    </tr>\n",
       "    <tr>\n",
       "      <th>94</th>\n",
       "      <td>95</td>\n",
       "      <td>45.816877</td>\n",
       "      <td>44.023230</td>\n",
       "    </tr>\n",
       "    <tr>\n",
       "      <th>95</th>\n",
       "      <td>96</td>\n",
       "      <td>46.102970</td>\n",
       "      <td>43.613024</td>\n",
       "    </tr>\n",
       "    <tr>\n",
       "      <th>96</th>\n",
       "      <td>97</td>\n",
       "      <td>45.530926</td>\n",
       "      <td>44.181661</td>\n",
       "    </tr>\n",
       "    <tr>\n",
       "      <th>97</th>\n",
       "      <td>98</td>\n",
       "      <td>46.067240</td>\n",
       "      <td>44.126937</td>\n",
       "    </tr>\n",
       "  </tbody>\n",
       "</table>\n",
       "<p>98 rows × 3 columns</p>\n",
       "</div>"
      ],
      "text/plain": [
       "    Epoch  Train Loss   Val Loss\n",
       "0       1   83.592842  76.332176\n",
       "1       2   78.241176  71.999707\n",
       "2       3   74.830381  68.580667\n",
       "3       4   72.201714  65.846916\n",
       "4       5   69.580331  63.373686\n",
       "..    ...         ...        ...\n",
       "93     94   45.601862  43.920493\n",
       "94     95   45.816877  44.023230\n",
       "95     96   46.102970  43.613024\n",
       "96     97   45.530926  44.181661\n",
       "97     98   46.067240  44.126937\n",
       "\n",
       "[98 rows x 3 columns]"
      ]
     },
     "execution_count": 5,
     "metadata": {},
     "output_type": "execute_result"
    }
   ],
   "source": [
    "df = pd.read_csv(csv_file)\n",
    "df"
   ]
  },
  {
   "cell_type": "code",
   "execution_count": 6,
   "metadata": {},
   "outputs": [
    {
     "data": {
      "image/png": "[encoded data removed]",
      "text/plain": [
       "<Figure size 1000x600 with 1 Axes>"
      ]
     },
     "metadata": {},
     "output_type": "display_data"
    }
   ],
   "source": [
    "plt.figure(figsize=(10, 6))\n",
    "plt.plot(df['Epoch'], df['Train Loss'], marker='o', label='Train Loss', color='blue')\n",
    "plt.plot(df['Epoch'], df['Val Loss'], marker='o', label='Validation Loss', color='orange')\n",
    "\n",
    "# Adding titles and labels\n",
    "plt.title('Train and Validation Loss over Epochs')\n",
    "plt.xlabel('Epoch')\n",
    "plt.ylabel('Loss')\n",
    "plt.xticks(range(0, max(df['Epoch']), 30))  # Set x-ticks to be the Epoch numbers\n",
    "plt.legend()\n",
    "plt.grid(True)\n",
    "\n",
    "# Show plot\n",
    "plt.show()\n"
   ]
  },
  {
   "cell_type": "code",
   "execution_count": 7,
   "metadata": {},
   "outputs": [],
   "source": [
    "from torchvision import models\n",
    "import torchvision"
   ]
  },
  {
   "cell_type": "markdown",
   "metadata": {
    "scrolled": true
   },
   "source": [
    "out = torchvision.utils.make_grid(inputs)\n",
    "imshow(out, title=[classes[x] for x in labels])\n",
    "print(labels)"
   ]
  },
  {
   "cell_type": "code",
   "execution_count": 8,
   "metadata": {},
   "outputs": [],
   "source": [
    "#model"
   ]
  },
  {
   "cell_type": "code",
   "execution_count": null,
   "metadata": {},
   "outputs": [
    {
     "name": "stderr",
     "output_type": "stream",
     "text": [
      "/tmp/ipykernel_1616075/553577657.py:1: FutureWarning: You are using `torch.load` with `weights_only=False` (the current default value), which uses the default pickle module implicitly. It is possible to construct malicious pickle data which will execute arbitrary code during unpickling (See https://github.com/pytorch/pytorch/blob/main/SECURITY.md#untrusted-models for more details). In a future release, the default value for `weights_only` will be flipped to `True`. This limits the functions that could be executed during unpickling. Arbitrary objects will no longer be allowed to be loaded via this mode unless they are explicitly allowlisted by the user via `torch.serialization.add_safe_globals`. We recommend you start setting `weights_only=True` for any use case where you don't have full control of the loaded file. Please open an issue on GitHub for any issues related to this experimental feature.\n",
      "  model.load_state_dict(torch.load(path + 'model.pth'))\n"
     ]
    }
   ],
   "source": [
    "model.load_state_dict(torch.load(path + 'model.pth', weights_only=True))\n",
    "model = model.cuda()"
   ]
  },
  {
   "cell_type": "markdown",
   "metadata": {},
   "source": [
    "model.eval()\n",
    "images, labels = next(iterator)\n",
    "\n",
    "outputs = model(images.cuda())\n",
    "\n",
    "_, predicted = torch.max(outputs.data, 1)\n",
    "\n",
    "print(predicted, labels)\n",
    "\n",
    "print('Predicted: ', ' '.join('%5s' % classes[predicted[j]] for j in range(len(predicted))))\n",
    "\n",
    "title = (' '.join('%5s |' % classes[labels[j]] for j in range(len(predicted))))\n",
    "imshow(torchvision.utils.make_grid(images, normalize=False), title)\n",
    "\n"
   ]
  },
  {
   "cell_type": "code",
   "execution_count": null,
   "metadata": {},
   "outputs": [
    {
     "name": "stdout",
     "output_type": "stream",
     "text": [
      "Accuracy of test images: 33.155080 %\n"
     ]
    }
   ],
   "source": [
    "model.eval()\n",
    "\n",
    "correct = 0\n",
    "total = 0\n",
    "matrix = np.zeros((8, 8), dtype=int)\n",
    "with torch.no_grad():    \n",
    "    for images, labels in test_loader:\n",
    "        \n",
    "        images = images.cuda()\n",
    "        outputs = model(images)\n",
    "        \n",
    "        _, predicted = torch.max(outputs.data, 1)\n",
    "        size = len(predicted)\n",
    "        for i in range(size):\n",
    "            matrix[labels[i].item()][predicted[i].item()] += 1\n",
    "\n",
    "        total += labels.size(0)\n",
    "        correct += (predicted == labels.cuda()).sum()\n",
    "    \n",
    "print('Accuracy of test images: %f %%' % (100 * float(correct) / total))\n",
    "\n"
   ]
  },
  {
   "cell_type": "markdown",
   "metadata": {},
   "source": [
    "0 ->   // 1e-5, 0.9, 0.1\n",
    "\n",
    "1 -> 46.26 // 1e-4, 0.9, 0.3\n",
    "\n",
    "2 -> 44.56 // 1e-5, 0.8, 0.3\n",
    "\n",
    "3 -> 44.72 // 1e-5, 0.8, 0.5\n",
    "\n",
    "4 -> 49.90 // 1e-4, 0.8, 0.5 \n",
    "\n",
    "5 -> 48.34 // 1e-4, 0.8, 0.5, translation 0.3, 0.3\n",
    "\n",
    "6-> // scheduler baseado no treino, 120 patience\n",
    "\n",
    "7 -> 43.60 // mudança de arquitetura, 16\n",
    "\n",
    "8 -> 48.14 // add relu, norm, \n",
    "\n",
    "9 -> 46.35 // 1e-4, 0.3, sp=2\n",
    "\n",
    "10 -> 47.09 // 1e-5, 0.3, sp=2\n",
    "\n",
    "11 -> 33.15 // resize em vez de centercrop"
   ]
  },
  {
   "cell_type": "code",
   "execution_count": null,
   "metadata": {
    "vscode": {
     "languageId": "plaintext"
    }
   },
   "outputs": [],
   "source": [
    "plt.figure(figsize=(8, 6))\n",
    "plt.imshow(matrix, interpolation='nearest', cmap=plt.cm.Blues)\n",
    "plt.title('Confusion Matrix')\n",
    "plt.colorbar()\n",
    "\n",
    "\n",
    "# Set ticks and labels\n",
    "classes = classes.keys()\n",
    "tick_marks = np.arange(len(classes))\n",
    "plt.xticks(tick_marks, classes, rotation=45)\n",
    "plt.yticks(tick_marks, classes)\n",
    "\n",
    "# Label the axes\n",
    "plt.ylabel('True label')\n",
    "plt.xlabel('Predicted label')\n",
    "\n",
    "thresh = matrix.max() / 2.\n",
    "for i, j in np.ndindex(matrix.shape):\n",
    "    plt.text(j, i, format(matrix[i][j], 'd'),\n",
    "             ha=\"center\", va=\"center\",\n",
    "             color=\"white\" if matrix[i, j] > thresh else \"black\")\n",
    "\n",
    "plt.tight_layout()\n",
    "plt.show()"
   ]
  },
  {
   "cell_type": "markdown",
   "metadata": {},
   "source": [
    "# "
   ]
  }
 ],
 "metadata": {
  "kernelspec": {
   "display_name": "Python 3 (ipykernel)",
   "language": "python",
   "name": "python3"
  },
  "language_info": {
   "codemirror_mode": {
    "name": "ipython",
    "version": 3
   },
   "file_extension": ".py",
   "mimetype": "text/x-python",
   "name": "python",
   "nbconvert_exporter": "python",
   "pygments_lexer": "ipython3",
   "version": "3.12.2"
  }
 },
 "nbformat": 4,
 "nbformat_minor": 4
}
